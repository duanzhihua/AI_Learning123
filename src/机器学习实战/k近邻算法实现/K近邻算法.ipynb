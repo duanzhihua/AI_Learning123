{
 "cells": [
  {
   "cell_type": "code",
   "execution_count": 1,
   "metadata": {},
   "outputs": [],
   "source": [
    "import numpy as np\n",
    "import operator"
   ]
  },
  {
   "cell_type": "code",
   "execution_count": 4,
   "metadata": {},
   "outputs": [],
   "source": [
    "# 创建数据集\n",
    "def createDataSet():\n",
    "#     创建样本矩阵4行2列 [[1.0, 1.1], [1.0, 1.0], [0.0, 0.0], [0.0, 0.1]]\n",
    "    matrix = np.array([[1.0, 1.1], [1.0, 1.0], [0.0, 0.0], [0.0, 0.1]])\n",
    "#     类别列表4类 ['A', 'A', 'B', 'B']\n",
    "    classVector = ['A', 'A', 'B', 'B']\n",
    "#     返回矩阵和列表\n",
    "    return matrix, classVector\n",
    "\n",
    "# 调用createDataSet()\n",
    "matrix, classVector = createDataSet()"
   ]
  },
  {
   "cell_type": "code",
   "execution_count": 37,
   "metadata": {},
   "outputs": [
    {
     "name": "stdout",
     "output_type": "stream",
     "text": [
      "dict_items([('A', 2), ('B', 1)])\n",
      "A\n"
     ]
    }
   ],
   "source": [
    "\n",
    "# 算法封装：核心是计算欧式距离：1.减 2.平方 3.和 4.开方\n",
    "# 参数：1.输入向量inX，即测试数据 2.样本矩阵matrix 3.用于分类的标签向量classVector 4.最近邻的数目\n",
    "def classify(inX, matrix, classVector, k):\n",
    "    #获取矩阵的行数\n",
    "    dataSetSize = matrix.shape[0]\n",
    "    #print(dataSetSize)\n",
    "    #减法：用测试数据与样本矩阵的每一个元素相减\n",
    "    #print(inX)\n",
    "    #print(matrix)\n",
    "    diffMat = np.tile(inX, (dataSetSize, 1)) - matrix\n",
    "    #print(diffMat)\n",
    "    #平方\n",
    "    sqDiffMat = diffMat ** 2\n",
    "    #print(sqDiffMat)\n",
    "    #横轴求和\n",
    "    sqDistances = sqDiffMat.sum(axis=1)\n",
    "    #print(sqDistances)\n",
    "    #开方\n",
    "    distance = sqDistances ** 0.5\n",
    "    #print(distance)\n",
    "    #距离排序从小到大(索引)\n",
    "    sortDistIndicies = distance.argsort()\n",
    "    #print(sortDistIndicies)\n",
    "    #创建空字典，存储不同类别出现的次数\n",
    "    classCount = {}\n",
    "    for i in range(k):\n",
    "        #遍历k个距离，查看对应类别\n",
    "        voteLabel = classVector[sortDistIndicies[i]]\n",
    "        #print(voteLabel)\n",
    "        #0表示如果不存在key则返回0，因为字典是空的，第一次进来肯定是0，但是已经出现了一次，所以加1\n",
    "        classCount[voteLabel] = classCount.get(voteLabel, 0) + 1\n",
    "    # operator.itemgettera按照第二个元素（类别出现的次数）的次序进行排序，而第一个元素是类别\n",
    "    sortedClassCount = sorted(classCount.items(), key=operator.itemgetter(1), reverse=True)\n",
    "    print(classCount.items())\n",
    "    print(sortedClassCount[0][0])\n",
    "\n",
    "\n",
    "classify([1, 1], matrix, classVector, 3)"
   ]
  },
  {
   "cell_type": "code",
   "execution_count": null,
   "metadata": {},
   "outputs": [],
   "source": []
  }
 ],
 "metadata": {
  "kernelspec": {
   "display_name": "Python 3",
   "language": "python",
   "name": "python3"
  },
  "language_info": {
   "codemirror_mode": {
    "name": "ipython",
    "version": 3
   },
   "file_extension": ".py",
   "mimetype": "text/x-python",
   "name": "python",
   "nbconvert_exporter": "python",
   "pygments_lexer": "ipython3",
   "version": "3.6.5"
  }
 },
 "nbformat": 4,
 "nbformat_minor": 2
}
