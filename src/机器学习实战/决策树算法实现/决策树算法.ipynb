{
 "cells": [
  {
   "cell_type": "code",
   "execution_count": 2,
   "metadata": {},
   "outputs": [
    {
     "name": "stdout",
     "output_type": "stream",
     "text": [
      "[[1, 1, 'yes'], [1, 1, 'yes'], [1, 0, 'no'], [0, 1, 'no'], [0, 1, 'no']]\n",
      "['no surfacing', 'flippers']\n"
     ]
    }
   ],
   "source": [
    "# encoding: utf-8\n",
    "from math import log\n",
    "import operator\n",
    "import treePlotter\n",
    "\n",
    "\n",
    "# 获取数据5行3列，2个特征\n",
    "def createDataSet():\n",
    "    dataSet = [[1, 1, 'yes'],\n",
    "               [1, 1, 'yes'],\n",
    "               [1, 0, 'no'],\n",
    "               [0, 1, 'no'],\n",
    "               [0, 1, 'no']]\n",
    "    labels = ['no surfacing', 'flippers']\n",
    "    return dataSet, labels\n",
    "\n",
    "\n",
    "dataSet, labels = createDataSet()\n",
    "print(dataSet)\n",
    "print(labels)"
   ]
  },
  {
   "cell_type": "code",
   "execution_count": 120,
   "metadata": {},
   "outputs": [],
   "source": [
    "# 计算系统熵\n",
    "def calcShannonEnt(dataSet):\n",
    "    numEntries = len(dataSet)  # 获取数组的长度\n",
    "#     print(numEntries)\n",
    "    labelCounts = {}#创建空字典\n",
    "    for featVec in dataSet:  # 计算数据集中不同类别的个数\n",
    "        currentLabel = featVec[-1]  # 获取类别\n",
    "#         print(currentLabel)\n",
    "#         print(labelCounts.keys())\n",
    "        if currentLabel not in labelCounts.keys(): labelCounts[currentLabel] = 0\n",
    "#         print(labelCounts[currentLabel])\n",
    "#         print(labelCounts.keys())\n",
    "        labelCounts[currentLabel] += 1\n",
    "#         print(labelCounts[currentLabel])\n",
    "    shannonEnt = 0.0\n",
    "#     print(labelCounts)\n",
    "    for key in labelCounts:\n",
    "        prob = float(labelCounts[key]) / numEntries  # 概率\n",
    "        shannonEnt -= prob * log(prob, 2)  # 熵\n",
    "    return shannonEnt\n",
    "\n",
    "\n",
    "shannonEnt = calcShannonEnt(dataSet)"
   ]
  },
  {
   "cell_type": "code",
   "execution_count": 121,
   "metadata": {},
   "outputs": [],
   "source": [
    "# 划分特征，得到最优特征\n",
    "# 输入参数：待划分的数据集dataSet，划分数据集的特征axis，需要返回的特征值value\n",
    "def splitDataSet(dataSet, axis, value):\n",
    "#     创建新列表，因为函数内部对列表对象修改会影响该列表的整个生命周期，所以创建一个新的列表\n",
    "    retDataSet = []\n",
    "#     遍历数据集里每个特征向量，每个特征向量包含多个特征值\n",
    "    for featVec in dataSet:\n",
    "# 将符合特征的数据抽取出来\n",
    "        if featVec[axis] == value:\n",
    "#         特征向量的前axis个\n",
    "            reducedFeatVec = featVec[:axis]\n",
    "# extend:得到包含两个列表所有元素的一个列表，从（axis + 1）个开始\n",
    "            reducedFeatVec.extend(featVec[axis + 1:])\n",
    "# append：如果两个都是列表，那么追加进来的新元素也是一个列表，也就是嵌套列表\n",
    "            retDataSet.append(reducedFeatVec)\n",
    "    return retDataSet"
   ]
  },
  {
   "cell_type": "code",
   "execution_count": 122,
   "metadata": {},
   "outputs": [
    {
     "name": "stdout",
     "output_type": "stream",
     "text": [
      "[[1, 'yes'], [1, 'yes'], [0, 'no'], [0, 'no']]\n"
     ]
    }
   ],
   "source": [
    "retDataSet = splitDataSet(dataSet,1,1)\n",
    "print(retDataSet)"
   ]
  },
  {
   "cell_type": "code",
   "execution_count": 130,
   "metadata": {},
   "outputs": [],
   "source": [
    "def chooseBestFeatureToSplit(dataSet):\n",
    "    numFeatures = len(dataSet[0]) - 1\n",
    "    baseEntropy = calcShannonEnt(dataSet)  # 系统熵\n",
    "    bestInfoGain = 0.0;\n",
    "    bestFeature = -1  # 初始最好的信息增益及特征\n",
    "    for i in range(numFeatures):\n",
    "        featList = [example[i] for example in dataSet]  # 取出特征值\n",
    "#         print(featList)\n",
    "        uniqueVals = set(featList)  # 防止重复\n",
    "#         print(uniqueVals)\n",
    "        newEntropy = 0.0\n",
    "        for value in uniqueVals:\n",
    "            subDataSet = splitDataSet(dataSet, i, value)\n",
    "#             print(subDataSet)\n",
    "            prob = len(subDataSet) / float(len(dataSet))\n",
    "#             条件熵\n",
    "            newEntropy += prob * calcShannonEnt(subDataSet)\n",
    "        infoGain = baseEntropy - newEntropy  # 信息增益\n",
    "        if (infoGain > bestInfoGain):  # 计算最大信息增益\n",
    "            bestInfoGain = infoGain\n",
    "            bestFeature = i\n",
    "    return bestFeature"
   ]
  },
  {
   "cell_type": "code",
   "execution_count": 131,
   "metadata": {},
   "outputs": [
    {
     "name": "stdout",
     "output_type": "stream",
     "text": [
      "0\n"
     ]
    }
   ],
   "source": [
    "bestFeat = chooseBestFeatureToSplit(dataSet)\n",
    "print(bestFeat)"
   ]
  },
  {
   "cell_type": "code",
   "execution_count": 132,
   "metadata": {},
   "outputs": [],
   "source": [
    "def majorityCnt(classList):\n",
    "    classCount = {}\n",
    "    for vote in classList:\n",
    "        if vote not in classCount.keys(): classCount[vote] = 0\n",
    "        classCount[vote] += 1\n",
    "    sortedClassCount = sorted(classCount.items(), key=operator.itemgetter(1), reverse=True)\n",
    "    return sortedClassCount[0][0]"
   ]
  },
  {
   "cell_type": "code",
   "execution_count": 133,
   "metadata": {},
   "outputs": [],
   "source": [
    "\n",
    "def createTree(dataSet, labels):\n",
    "    classList = [example[-1] for example in dataSet]\n",
    "    if classList.count(classList[0]) == len(classList):\n",
    "        return classList[0]\n",
    "    if len(dataSet[0]) == 1:\n",
    "        return majorityCnt(classList)\n",
    "    bestFeat = chooseBestFeatureToSplit(dataSet)\n",
    "    bestFeatLabel = labels[bestFeat]\n",
    "    myTree = {bestFeatLabel: {}}\n",
    "    del (labels[bestFeat])\n",
    "    featValues = [example[bestFeat] for example in dataSet]\n",
    "    uniqueVals = set(featValues)\n",
    "    for value in uniqueVals:\n",
    "        subLabels = labels[:]\n",
    "        myTree[bestFeatLabel][value] = createTree(splitDataSet(dataSet, bestFeat, value), subLabels)\n",
    "    return myTree"
   ]
  },
  {
   "cell_type": "code",
   "execution_count": 134,
   "metadata": {},
   "outputs": [
    {
     "data": {
      "image/png": "[encoded data removed]",
      "text/plain": [
       "<Figure size 432x288 with 1 Axes>"
      ]
     },
     "metadata": {},
     "output_type": "display_data"
    }
   ],
   "source": [
    "myTree = createTree(dataSet, labels)\n",
    "\n",
    "treePlotter.createPlot(myTree)"
   ]
  },
  {
   "cell_type": "code",
   "execution_count": null,
   "metadata": {},
   "outputs": [],
   "source": []
  }
 ],
 "metadata": {
  "kernelspec": {
   "display_name": "Python 3",
   "language": "python",
   "name": "python3"
  },
  "language_info": {
   "codemirror_mode": {
    "name": "ipython",
    "version": 3
   },
   "file_extension": ".py",
   "mimetype": "text/x-python",
   "name": "python",
   "nbconvert_exporter": "python",
   "pygments_lexer": "ipython3",
   "version": "3.6.5"
  }
 },
 "nbformat": 4,
 "nbformat_minor": 2
}
